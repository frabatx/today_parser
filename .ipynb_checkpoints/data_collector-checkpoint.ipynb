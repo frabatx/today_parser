{
 "nbformat": 4,
 "nbformat_minor": 2,
 "metadata": {
  "language_info": {
   "name": "python",
   "codemirror_mode": {
    "name": "ipython",
    "version": 3
   },
   "version": "3.6.9-final"
  },
  "orig_nbformat": 2,
  "file_extension": ".py",
  "mimetype": "text/x-python",
  "name": "python",
  "npconvert_exporter": "python",
  "pygments_lexer": "ipython3",
  "version": 3,
  "kernelspec": {
   "name": "python36964bit3748148b427047b8b3accd09e0f202bd",
   "display_name": "Python 3.6.9 64-bit"
  }
 },
 "cells": [
  {
   "cell_type": "code",
   "execution_count": 2,
   "metadata": {},
   "outputs": [],
   "source": [
    "from bs4 import BeautifulSoup as soup\n",
    "from urllib.request import urlopen as uReq\n",
    "from pandas.io.json import json_normalize   \n",
    "import pandas as pd  \n",
    "import time\n",
    "import json\n",
    "import re"
   ]
  },
  {
   "cell_type": "code",
   "execution_count": 3,
   "metadata": {},
   "outputs": [],
   "source": [
    "my_url = \"http://www.trentotoday.it/search/from/01.01.2010/to/27.02.2020/model/articolo\"\n",
    "\n",
    "# Opening up connection, grabbing the page\n",
    "UClient =  uReq(my_url)\n",
    "time.sleep(3)\n",
    "page_html = UClient.read()"
   ]
  },
  {
   "cell_type": "code",
   "execution_count": 4,
   "metadata": {},
   "outputs": [],
   "source": [
    " # html parser\n",
    "page_soup = soup(page_html,\"lxml\")"
   ]
  },
  {
   "cell_type": "code",
   "execution_count": 4,
   "metadata": {},
   "outputs": [],
   "source": [
    "#stories = page_soup.find(\"ul\",{\"class\",\"u-unstyled search-results\"})"
   ]
  },
  {
   "cell_type": "code",
   "execution_count": 17,
   "metadata": {},
   "outputs": [],
   "source": [
    "#articles = stories.findAll(\"li\",{\"class\",\"result-item nw_result_articolo\"})"
   ]
  },
  {
   "cell_type": "code",
   "execution_count": 5,
   "metadata": {},
   "outputs": [],
   "source": [
    "# Cerco il numero di pagine per ciclare su ognuna di esse\n",
    "temp = page_soup.find(\"div\",{\"class\", \"form-group search-input\"})\n",
    "n_pages = temp.find_all(\"strong\")[1].get_text()"
   ]
  },
  {
   "cell_type": "code",
   "execution_count": 45,
   "metadata": {},
   "outputs": [],
   "source": [
    "# Creo il database\n",
    "columns = ['title', 'link', 'timestamp', 'text', 'keywords' ,'address', 'gps']\n",
    "df = pd.DataFrame(columns=columns)\n"
   ]
  },
  {
   "cell_type": "code",
   "execution_count": 46,
   "metadata": {},
   "outputs": [],
   "source": [
    "url_search = 'http://www.trentotoday.it/search/model/articolo/from/01.01.2010/to/27.02.2020/pag/'\n",
    "\n",
    "# Per ogni pagina mi prendo le informazioni\n",
    "for i in range(1,int(n_pages)):\n",
    "    url_complete = url_search + str(i) #creo il link\n",
    "    UClient =  uReq(url_complete)\n",
    "    time.sleep(2)\n",
    "    html = UClient.read()\n",
    "\n",
    "    page_soup = soup(html,\"lxml\")\n",
    "    stories = page_soup.find(\"ul\",{\"class\",\"u-unstyled search-results\"})\n",
    "    articles = stories.findAll(\"li\",{\"class\",\"result-item nw_result_articolo\"})\n",
    "\n",
    "    for art in articles:\n",
    "        if(art.article.div.header.p.span.get_text()==\"Articolo\"):\n",
    "            title = art.a.get_text()\n",
    "            link = 'http://www.trentotoday.it{}'.format(art.a['href'])\n",
    "            timestamp = art.i.get_text()\n",
    "            #print(title[20:-18], link, timestamp)\n",
    "            df = df.append({'title':title[20:-18], 'link':link, 'timestamp':timestamp ,'text':'', 'keywords':'', 'address':'', 'gps':''},ignore_index = True)\n",
    "\n",
    "                "
   ]
  },
  {
   "cell_type": "code",
   "execution_count": 47,
   "metadata": {},
   "outputs": [
    {
     "name": "stdout",
     "output_type": "stream",
     "text": "title  \\\n0     Minacce al leader di Casa Pound Trento, invo...   \n1     A Lavis arrivano 11 social house: ecco come ...   \n2     Chico Forti, si riaccende la speranza: \"Di M...   \n3     Il Trentino della solidarietà in lutto: addi...   \n4       Travolto da un albero: muore boscaiolo 17enne   \n5     Lavori di restauro per i \"Tre portoni\": ecco...   \n6     Polizia stradale: in 10 giorni via 37 patent...   \n7     Ragazzo di 20 anni trovato morto in un palaz...   \n8     L'Alto Adige riapre le scuole, in Trentino s...   \n9     Coronavirus: due studenti trentini isolati i...   \n10    Coronavirus: i musei provinciali non sono ch...   \n11    Vastissimo incendio, la montagna brucia da d...   \n12    Associazione donatori midollo osseo, il Tren...   \n13    Auto a zig-zag in paese, arrivano i vigili: ...   \n14    Amuchina \"fai da te\"? Non fatelo a casa: ecc...   \n15    Coronavirus: sanificazione dei mezzi pubblic...   \n16    Pauroso incidente a Mori, schianto frontale ...   \n17    Università di Trento rinvia l'inaugurazione ...   \n18    Giunta a pranzo in mensa: \"Frequentare luogh...   \n19    Turismo in crisi per il coronavirus, la sena...   \n20    Il cervello umano ha 'un Gps': la scoperta d...   \n21    Neve o grandine? Ecco il Graupel, curioso fe...   \n22    Numero verde coronavirus in Trentino: miglia...   \n23       Italiana morta in Austria: non è coronavirus   \n24    La bimba Cappuccetto Rosso e il suo cane tra...   \n25    Coronavirus, igienizzazione per tutte le cab...   \n26    Coronavirus, stop ai concerti a Trento. L'ap...   \n27    Coronavirus, \"Stiamo attenti ma non perdiamo...   \n28    Neve in montagna, grandine in città, poi il ...   \n29    Coronavirus: italiana morta in Austria, effe...   \n\n                                                 link  \\\n0   http://www.trentotoday.it/politica/castaldini-...   \n1   http://www.trentotoday.it/attualita/social-hou...   \n2   http://www.trentotoday.it/attualita/chico-fort...   \n3   http://www.trentotoday.it/attualita/morto-gual...   \n4   http://www.trentotoday.it/cronaca/ragazzo-mort...   \n5   http://www.trentotoday.it/attualita/restauro-t...   \n6   http://www.trentotoday.it/attualita/polizia-co...   \n7   http://www.trentotoday.it/cronaca/ragazzo-mort...   \n8   http://www.trentotoday.it/attualita/coronaviru...   \n9   http://www.trentotoday.it/cronaca/coronavirus-...   \n10  http://www.trentotoday.it/eventi/coronavirus-m...   \n11  http://www.trentotoday.it/cronaca/incendio-cas...   \n12  http://www.trentotoday.it/attualita/admo-trent...   \n13  http://www.trentotoday.it/cronaca/ubriaco-senz...   \n14  http://www.trentotoday.it/attualita/fare-amuch...   \n15  http://www.trentotoday.it/cronaca/coronavirus-...   \n16  http://www.trentotoday.it/cronaca/incidente-st...   \n17  http://www.trentotoday.it/attualita/coronaviru...   \n18  http://www.trentotoday.it/attualita/coronaviru...   \n19  http://www.trentotoday.it/economia/coronavirus...   \n20  http://www.trentotoday.it/attualita/cervello-u...   \n21  http://www.trentotoday.it/meteo/graupel-grandi...   \n22  http://www.trentotoday.it/attualita/numero-ver...   \n23  http://www.trentotoday.it/cronaca/italiana-mor...   \n24  http://www.trentotoday.it/attualita/cappuccett...   \n25  http://www.trentotoday.it/economia/crisi-turis...   \n26  http://www.trentotoday.it/attualita/coronaviru...   \n27  http://www.trentotoday.it/attualita/psicologi-...   \n28  http://www.trentotoday.it/meteo/grandine-26-fe...   \n29  http://www.trentotoday.it/attualita/coronaviru...   \n\n                      timestamp text keywords address gps  \n0     giovedì, 27 febbraio 2020                            \n1     giovedì, 27 febbraio 2020                            \n2     giovedì, 27 febbraio 2020                            \n3     giovedì, 27 febbraio 2020                            \n4     giovedì, 27 febbraio 2020                            \n5     giovedì, 27 febbraio 2020                            \n6     giovedì, 27 febbraio 2020                            \n7     giovedì, 27 febbraio 2020                            \n8     giovedì, 27 febbraio 2020                            \n9     giovedì, 27 febbraio 2020                            \n10    giovedì, 27 febbraio 2020                            \n11    giovedì, 27 febbraio 2020                            \n12    giovedì, 27 febbraio 2020                            \n13    giovedì, 27 febbraio 2020                            \n14    giovedì, 27 febbraio 2020                            \n15    giovedì, 27 febbraio 2020                            \n16    giovedì, 27 febbraio 2020                            \n17  mercoledì, 26 febbraio 2020                            \n18  mercoledì, 26 febbraio 2020                            \n19  mercoledì, 26 febbraio 2020                            \n20  mercoledì, 26 febbraio 2020                            \n21  mercoledì, 26 febbraio 2020                            \n22  mercoledì, 26 febbraio 2020                            \n23  mercoledì, 26 febbraio 2020                            \n24  mercoledì, 26 febbraio 2020                            \n25  mercoledì, 26 febbraio 2020                            \n26  mercoledì, 26 febbraio 2020                            \n27  mercoledì, 26 febbraio 2020                            \n28  mercoledì, 26 febbraio 2020                            \n29  mercoledì, 26 febbraio 2020                            \n"
    }
   ],
   "source": [
    "print(df)"
   ]
  },
  {
   "cell_type": "code",
   "execution_count": 48,
   "metadata": {},
   "outputs": [],
   "source": [
    "df.to_csv(\"prova.csv\",header = True)"
   ]
  },
  {
   "cell_type": "code",
   "execution_count": null,
   "metadata": {},
   "outputs": [],
   "source": []
  }
 ]
}