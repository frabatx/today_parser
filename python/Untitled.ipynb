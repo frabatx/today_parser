{
 "cells": [
  {
   "cell_type": "code",
   "execution_count": null,
   "metadata": {},
   "outputs": [],
   "source": []
  },
  {
   "cell_type": "code",
   "execution_count": null,
   "metadata": {},
   "outputs": [],
   "source": []
  },
  {
   "cell_type": "code",
   "execution_count": null,
   "metadata": {},
   "outputs": [],
   "source": []
  },
  {
   "cell_type": "code",
   "execution_count": null,
   "metadata": {},
   "outputs": [],
   "source": []
  },
  {
   "cell_type": "code",
   "execution_count": null,
   "metadata": {},
   "outputs": [],
   "source": []
  },
  {
   "cell_type": "code",
   "execution_count": null,
   "metadata": {},
   "outputs": [],
   "source": []
  },
  {
   "cell_type": "code",
   "execution_count": null,
   "metadata": {},
   "outputs": [],
   "source": []
  },
  {
   "cell_type": "code",
   "execution_count": null,
   "metadata": {},
   "outputs": [],
   "source": []
  },
  {
   "cell_type": "code",
   "execution_count": null,
   "metadata": {},
   "outputs": [],
   "source": [
    "\n",
    "from geopy.extra.rate_limiter import RateLimiter\n",
    "import geopy\n",
    "# 1 - conveneint function to delay between geocoding calls\n",
    "locator = geopy.geocoders.Nominatim(user_agent=\"today_parser\")\n",
    "geocode = RateLimiter(locator.geocode, min_delay_seconds=0)\n",
    "try:\n",
    "    df_locationempty['location'] = df_locationempty['address'].apply(geocode)\n",
    "    # 3 - create longitude, laatitude and altitude from location column (returns tuple)\n",
    "    df_locationempty['point'] = df_locationempty['location'].apply(lambda loc: tuple(loc.point) if loc else (0.0,0.0,0.0))\n",
    "    # 4 - split point column into latitude, longitude and altitude columns\n",
    "    df_locationempty[['latitude', 'longitude', 'altitude']] = pd.DataFrame(df_locationempty['point'].tolist(), index=df_locationempty.index)\n",
    "except Exception as e:\n",
    "    print(str(e))\n"
   ]
  }
 ],
 "metadata": {
  "kernelspec": {
   "display_name": "Python 3.6.9 64-bit",
   "language": "python",
   "name": "python36964bit3748148b427047b8b3accd09e0f202bd"
  },
  "language_info": {
   "codemirror_mode": {
    "name": "ipython",
    "version": 3
   },
   "file_extension": ".py",
   "mimetype": "text/x-python",
   "name": "python",
   "nbconvert_exporter": "python",
   "pygments_lexer": "ipython3",
   "version": "3.6.9"
  }
 },
 "nbformat": 4,
 "nbformat_minor": 4
}
